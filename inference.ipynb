{
 "cells": [
  {
   "cell_type": "code",
   "execution_count": 2,
   "id": "0ae4a917",
   "metadata": {},
   "outputs": [],
   "source": [
    "import torch\n",
    "import torch.nn.functional as F\n",
    "import yaml\n",
    "import warnings\n",
    "\n",
    "warnings.filterwarnings('ignore')\n",
    "\n",
    "from torch_geometric.data import Data  # from train.py imports fileciteturn2file0\n",
    "from torch_geometric.utils import subgraph  # for extracting subgraphs fileciteturn2file0\n",
    "import model"
   ]
  },
  {
   "cell_type": "code",
   "execution_count": 3,
   "id": "1af49d0b",
   "metadata": {},
   "outputs": [],
   "source": [
    "model_config = yaml.safe_load(open('config/model.yaml', 'r'))\n",
    "training_config = yaml.safe_load(open('config/training.yaml', 'r'))"
   ]
  },
  {
   "cell_type": "code",
   "execution_count": 4,
   "id": "f8576a36",
   "metadata": {},
   "outputs": [],
   "source": [
    "model_dict = {name: getattr(model, name) for name in model.__all__}  # fileciteturn2file0"
   ]
  },
  {
   "cell_type": "code",
   "execution_count": 6,
   "id": "2f948622",
   "metadata": {},
   "outputs": [
    {
     "name": "stdout",
     "output_type": "stream",
     "text": [
      "Using device: cuda:3\n"
     ]
    }
   ],
   "source": [
    "device = torch.device('cuda:3' if torch.cuda.is_available() else 'cpu')\n",
    "print(f\"Using device: {device}\")"
   ]
  },
  {
   "cell_type": "code",
   "execution_count": 8,
   "id": "3f9b193d",
   "metadata": {},
   "outputs": [
    {
     "name": "stdout",
     "output_type": "stream",
     "text": [
      "Loaded data: 203768 nodes, 166 features per node\n"
     ]
    }
   ],
   "source": [
    "data = torch.load(\n",
    "    training_config['data']['data_path'],\n",
    "    weights_only=training_config['data']['weights_only']\n",
    ")\n",
    "data = data.to(device)\n",
    "print(f\"Loaded data: {data.num_nodes} nodes, {data.num_node_features} features per node\")"
   ]
  },
  {
   "cell_type": "code",
   "execution_count": 9,
   "id": "345e6b73",
   "metadata": {},
   "outputs": [],
   "source": [
    "nsubset_nodes = [12, 45, 78, 123]\n",
    "subset = torch.tensor(nsubset_nodes, dtype=torch.long, device=device)"
   ]
  },
  {
   "cell_type": "code",
   "execution_count": 10,
   "id": "295a3691",
   "metadata": {},
   "outputs": [],
   "source": [
    "edge_index_sub, edge_attr_sub = subgraph(\n",
    "    subset,\n",
    "    data.edge_index,\n",
    "    data.edge_attr if hasattr(data, 'edge_attr') else None,\n",
    "    relabel_nodes=True\n",
    ")"
   ]
  },
  {
   "cell_type": "code",
   "execution_count": 11,
   "id": "0d6b7759",
   "metadata": {},
   "outputs": [],
   "source": [
    "x_sub = data.x[subset]\n",
    "data_sub = Data(x=x_sub, edge_index=edge_index_sub)"
   ]
  },
  {
   "cell_type": "code",
   "execution_count": 12,
   "id": "95b43c01",
   "metadata": {},
   "outputs": [],
   "source": [
    "if hasattr(data, 'edge_attr') and edge_attr_sub is not None:\n",
    "    data_sub.edge_attr = edge_attr_sub"
   ]
  },
  {
   "cell_type": "code",
   "execution_count": 13,
   "id": "b8837182",
   "metadata": {},
   "outputs": [
    {
     "name": "stdout",
     "output_type": "stream",
     "text": [
      "Loaded model from checkpoints/elliptic/SAGE/fold_1/SAGE_fold1.pt\n"
     ]
    }
   ],
   "source": [
    "fold = 1  # change to the fold number you want\n",
    "model_cls = model_dict[model_config['model']['type']]\n",
    "model_net = model_cls(\n",
    "    in_channels=data.num_node_features,\n",
    "    **model_config['model']['params']\n",
    ").to(device)\n",
    "ckpt_path = (\n",
    "    f\"{model_config['checkpoint']}/\"\n",
    "    f\"{model_net.__class__.__name__}/fold_{fold}/\"\n",
    "    f\"{model_net.__class__.__name__}_fold{fold}.pt\"\n",
    ")\n",
    "checkpoint = torch.load(ckpt_path, map_location=device)\n",
    "model_net.load_state_dict(checkpoint['model_state_dict'])\n",
    "model_net.eval()\n",
    "print(f\"Loaded model from {ckpt_path}\")"
   ]
  },
  {
   "cell_type": "code",
   "execution_count": 14,
   "id": "adacf224",
   "metadata": {},
   "outputs": [
    {
     "name": "stdout",
     "output_type": "stream",
     "text": [
      "Original node 12: predicted class 1 (confidence 0.9988)\n",
      "Original node 45: predicted class 1 (confidence 0.9932)\n",
      "Original node 78: predicted class 1 (confidence 0.8759)\n",
      "Original node 123: predicted class 1 (confidence 0.9705)\n"
     ]
    }
   ],
   "source": [
    "with torch.no_grad():\n",
    "    out = model_net(data_sub.x, data_sub.edge_index)\n",
    "    probs = F.softmax(out, dim=1)\n",
    "    preds = probs.argmax(dim=1)\n",
    "\n",
    "# Map predictions back to original node IDs and print results\n",
    "for i, node_id in enumerate(subset):\n",
    "    label = preds[i].item()\n",
    "    score = probs[i, label].item()\n",
    "    print(f\"Original node {node_id.item()}: predicted class {label} (confidence {score:.4f})\")"
   ]
  }
 ],
 "metadata": {
  "kernelspec": {
   "display_name": "dd-chat",
   "language": "python",
   "name": "python3"
  },
  "language_info": {
   "codemirror_mode": {
    "name": "ipython",
    "version": 3
   },
   "file_extension": ".py",
   "mimetype": "text/x-python",
   "name": "python",
   "nbconvert_exporter": "python",
   "pygments_lexer": "ipython3",
   "version": "3.9.21"
  }
 },
 "nbformat": 4,
 "nbformat_minor": 5
}
