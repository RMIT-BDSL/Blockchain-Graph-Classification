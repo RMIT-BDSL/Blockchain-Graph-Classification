{
 "cells": [
  {
   "cell_type": "markdown",
   "id": "ad3df2c2",
   "metadata": {},
   "source": [
    "## Data Exploration"
   ]
  },
  {
   "cell_type": "code",
   "execution_count": 1,
   "id": "00be7743",
   "metadata": {},
   "outputs": [],
   "source": [
    "import networkx as nx\n",
    "import pandas as pd\n",
    "import gc\n",
    "import torch\n",
    "import torch.nn.functional as F\n",
    "from tqdm.auto import tqdm\n",
    "from torch_geometric.data import Data\n",
    "from model.GCN import GCNClassifier\n",
    "from model.GAT import GATClassifier\n",
    "from model.SAGE import SAGEClassifier"
   ]
  },
  {
   "cell_type": "code",
   "execution_count": 2,
   "id": "93931f29",
   "metadata": {},
   "outputs": [],
   "source": [
    "edgelists = pd.read_csv('data/elliptic_bitcoin_dataset/elliptic_txs_edgelist.csv')\n",
    "features = pd.read_csv('data/elliptic_bitcoin_dataset/elliptic_txs_features.csv')\n",
    "classes = pd.read_csv('data/elliptic_bitcoin_dataset/elliptic_txs_classes.csv')"
   ]
  },
  {
   "cell_type": "code",
   "execution_count": 3,
   "id": "8c806202",
   "metadata": {},
   "outputs": [],
   "source": [
    "features.columns = ['txId'] + [f\"V{i + 1}\" for i in range(len(features.columns) - 1)]"
   ]
  },
  {
   "cell_type": "code",
   "execution_count": 4,
   "id": "0f683b5b",
   "metadata": {},
   "outputs": [
    {
     "name": "stdout",
     "output_type": "stream",
     "text": [
      "Number of nodes: 203768\n",
      "Number of edges: 234355\n"
     ]
    }
   ],
   "source": [
    "print(\"Number of nodes:\", len(features))\n",
    "print(\"Number of edges:\", len(edgelists))"
   ]
  },
  {
   "cell_type": "code",
   "execution_count": null,
   "id": "6e85cd0e",
   "metadata": {},
   "outputs": [],
   "source": [
    "classes['class_mapped'] = classes['class'].replace({'1': 'illicit', '2': 'licit'})\n",
    "\n",
    "percentage_distribution = round(100 * classes['class_mapped'].value_counts(normalize=True), 2)\n",
    "class_counts = classes['class_mapped'].value_counts()\n",
    "\n",
    "emoji_mapping = {\n",
    "    'licit': '✅', \n",
    "    'illicit': '❌', \n",
    "    'unknown': '🤷'\n",
    "}\n",
    "classes['emoji'] = classes['class_mapped'].map(emoji_mapping)\n",
    "\n",
    "classes_df = pd.DataFrame({\n",
    "    'Class Mapped': classes['class_mapped'].unique(),\n",
    "    'Class Raw': classes['class'].unique(),    \n",
    "    'Counts': class_counts.values,\n",
    "    'Percentage': percentage_distribution.values,\n",
    "    'Emoji': [emoji_mapping[class_label] for class_label in classes['class_mapped'].unique()]\n",
    "})\n",
    "\n",
    "assert len(classes_df) == 3, \"There should be 3 unique classes\"\n",
    "assert sum(classes_df['Counts']) == len(classes), \"Total counts should match the number of rows in classes\""
   ]
  },
  {
   "cell_type": "code",
   "execution_count": 6,
   "id": "31ec7cf5",
   "metadata": {},
   "outputs": [
    {
     "data": {
      "text/html": [
       "<div>\n",
       "<style scoped>\n",
       "    .dataframe tbody tr th:only-of-type {\n",
       "        vertical-align: middle;\n",
       "    }\n",
       "\n",
       "    .dataframe tbody tr th {\n",
       "        vertical-align: top;\n",
       "    }\n",
       "\n",
       "    .dataframe thead th {\n",
       "        text-align: right;\n",
       "    }\n",
       "</style>\n",
       "<table border=\"1\" class=\"dataframe\">\n",
       "  <thead>\n",
       "    <tr style=\"text-align: right;\">\n",
       "      <th></th>\n",
       "      <th>Class Mapped</th>\n",
       "      <th>Class Raw</th>\n",
       "      <th>Counts</th>\n",
       "      <th>Percentage</th>\n",
       "      <th>Emoji</th>\n",
       "    </tr>\n",
       "  </thead>\n",
       "  <tbody>\n",
       "    <tr>\n",
       "      <th>0</th>\n",
       "      <td>unknown</td>\n",
       "      <td>unknown</td>\n",
       "      <td>157205</td>\n",
       "      <td>77.15</td>\n",
       "      <td>🤷</td>\n",
       "    </tr>\n",
       "    <tr>\n",
       "      <th>1</th>\n",
       "      <td>licit</td>\n",
       "      <td>2</td>\n",
       "      <td>42019</td>\n",
       "      <td>20.62</td>\n",
       "      <td>✅</td>\n",
       "    </tr>\n",
       "    <tr>\n",
       "      <th>2</th>\n",
       "      <td>illicit</td>\n",
       "      <td>1</td>\n",
       "      <td>4545</td>\n",
       "      <td>2.23</td>\n",
       "      <td>❌</td>\n",
       "    </tr>\n",
       "  </tbody>\n",
       "</table>\n",
       "</div>"
      ],
      "text/plain": [
       "  Class Mapped Class Raw  Counts  Percentage Emoji\n",
       "0      unknown   unknown  157205       77.15     🤷\n",
       "1        licit         2   42019       20.62     ✅\n",
       "2      illicit         1    4545        2.23     ❌"
      ]
     },
     "execution_count": 6,
     "metadata": {},
     "output_type": "execute_result"
    }
   ],
   "source": [
    "classes_df"
   ]
  },
  {
   "cell_type": "markdown",
   "id": "546a774b",
   "metadata": {},
   "source": [
    "## Loading preprocessed data"
   ]
  },
  {
   "cell_type": "code",
   "execution_count": 7,
   "id": "b9e77310",
   "metadata": {},
   "outputs": [
    {
     "name": "stdout",
     "output_type": "stream",
     "text": [
      "Data loaded successfully. Number of nodes: 203768\n",
      "Train nodes: 37251\n",
      "Test nodes: 9313\n"
     ]
    }
   ],
   "source": [
    "with torch.serialization.safe_globals([Data]):\n",
    "    data = torch.load('data/elliptic_bitcoin_dataset/elliptic_data.pt', weights_only=False)\n",
    "\n",
    "print(\"Data loaded successfully. Number of nodes:\", data.num_nodes)\n",
    "\n",
    "known_mask = (data.y != 2)\n",
    "known_indices = torch.where(known_mask)[0]\n",
    "\n",
    "# Shuffle and split into 80% train, 20% test\n",
    "perm = known_indices[torch.randperm(len(known_indices))]\n",
    "split_idx = int(0.8 * len(perm))\n",
    "\n",
    "train_indices = perm[:split_idx]\n",
    "test_indices = perm[split_idx:]\n",
    "\n",
    "# Initialize boolean masks for all nodes\n",
    "data.train_mask = torch.zeros(data.num_nodes, dtype=torch.bool)\n",
    "data.test_mask = torch.zeros(data.num_nodes, dtype=torch.bool)\n",
    "\n",
    "data.train_mask[train_indices] = True\n",
    "data.test_mask[test_indices] = True\n",
    "\n",
    "print(f\"Train nodes: {data.train_mask.sum().item()}\")\n",
    "print(f\"Test nodes: {data.test_mask.sum().item()}\")"
   ]
  },
  {
   "cell_type": "markdown",
   "id": "1fc0730c",
   "metadata": {},
   "source": [
    "## Model Initialization"
   ]
  },
  {
   "cell_type": "code",
   "execution_count": 8,
   "id": "dc4761ec",
   "metadata": {},
   "outputs": [],
   "source": [
    "device = torch.device('cuda' if torch.cuda.is_available() else 'cpu')\n",
    "model_1 = GATClassifier(data.num_node_features, hidden_dim=64, num_classes=3).to(device)\n",
    "model_2 = GCNClassifier(data.num_node_features, hidden_dim=64, num_classes=3).to(device)\n",
    "model_3 = SAGEClassifier(data.num_node_features, hidden_dim=64, num_classes=3).to(device)\n",
    "data = data.to(device)"
   ]
  },
  {
   "cell_type": "markdown",
   "id": "dcb9db91",
   "metadata": {},
   "source": [
    "## Model training"
   ]
  },
  {
   "cell_type": "code",
   "execution_count": 9,
   "id": "47d88999",
   "metadata": {},
   "outputs": [],
   "source": [
    "def process(model,\n",
    "            lr: float = 1e-4,\n",
    "            weight_decay: float = 5e-4,\n",
    "            n_epochs: int = 512):\n",
    "    optimizer = torch.optim.Adam(model.parameters(), lr=1e-4, weight_decay=5e-4)\n",
    "    n_epochs = 512\n",
    "\n",
    "    model.train()\n",
    "    for epoch in tqdm(range(n_epochs), desc=\"Training\", unit=\"epoch\"):\n",
    "        optimizer.zero_grad()\n",
    "        out = model(data.x, data.edge_index)\n",
    "        loss = F.nll_loss(out[data.train_mask], data.y[data.train_mask])\n",
    "        loss.backward()\n",
    "        optimizer.step()\n",
    "\n",
    "    model.eval()\n",
    "    with torch.no_grad():\n",
    "        logits = model(data.x, data.edge_index)\n",
    "        preds = logits.argmax(dim=1)\n",
    "        \n",
    "        correct = preds[data.test_mask].eq(data.y[data.test_mask]).sum().item()\n",
    "        acc = correct / data.test_mask.sum().item()\n",
    "        \n",
    "        print(f\"Test Accuracy on unseen nodes: {acc * 100:.2f}%\")"
   ]
  },
  {
   "cell_type": "code",
   "execution_count": 10,
   "id": "a1cb43e6",
   "metadata": {},
   "outputs": [
    {
     "data": {
      "application/vnd.jupyter.widget-view+json": {
       "model_id": "918fc78be8b04f598c0789d1c0d58a42",
       "version_major": 2,
       "version_minor": 0
      },
      "text/plain": [
       "Training:   0%|          | 0/512 [00:00<?, ?epoch/s]"
      ]
     },
     "metadata": {},
     "output_type": "display_data"
    },
    {
     "name": "stdout",
     "output_type": "stream",
     "text": [
      "Test Accuracy on unseen nodes: 95.47%\n"
     ]
    }
   ],
   "source": [
    "process(model_1)"
   ]
  },
  {
   "cell_type": "code",
   "execution_count": 11,
   "id": "537da684",
   "metadata": {},
   "outputs": [
    {
     "data": {
      "application/vnd.jupyter.widget-view+json": {
       "model_id": "a98d3da693ae48dfb01b1c53e2e48a82",
       "version_major": 2,
       "version_minor": 0
      },
      "text/plain": [
       "Training:   0%|          | 0/512 [00:00<?, ?epoch/s]"
      ]
     },
     "metadata": {},
     "output_type": "display_data"
    },
    {
     "name": "stdout",
     "output_type": "stream",
     "text": [
      "Test Accuracy on unseen nodes: 96.33%\n"
     ]
    }
   ],
   "source": [
    "process(model_2)"
   ]
  },
  {
   "cell_type": "code",
   "execution_count": 12,
   "id": "9bfa9e27",
   "metadata": {},
   "outputs": [
    {
     "data": {
      "application/vnd.jupyter.widget-view+json": {
       "model_id": "00442d95afc141c68de2d2b96a3728af",
       "version_major": 2,
       "version_minor": 0
      },
      "text/plain": [
       "Training:   0%|          | 0/512 [00:00<?, ?epoch/s]"
      ]
     },
     "metadata": {},
     "output_type": "display_data"
    },
    {
     "name": "stdout",
     "output_type": "stream",
     "text": [
      "Test Accuracy on unseen nodes: 96.82%\n"
     ]
    }
   ],
   "source": [
    "process(model_3)"
   ]
  },
  {
   "cell_type": "code",
   "execution_count": null,
   "id": "63e47cc0",
   "metadata": {},
   "outputs": [],
   "source": []
  }
 ],
 "metadata": {
  "kernelspec": {
   "display_name": "dd-chat",
   "language": "python",
   "name": "python3"
  },
  "language_info": {
   "codemirror_mode": {
    "name": "ipython",
    "version": 3
   },
   "file_extension": ".py",
   "mimetype": "text/x-python",
   "name": "python",
   "nbconvert_exporter": "python",
   "pygments_lexer": "ipython3",
   "version": "3.9.21"
  }
 },
 "nbformat": 4,
 "nbformat_minor": 5
}
