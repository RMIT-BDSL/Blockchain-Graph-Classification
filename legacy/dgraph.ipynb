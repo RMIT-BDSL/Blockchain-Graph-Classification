{
 "cells": [
  {
   "cell_type": "code",
   "execution_count": 6,
   "id": "d2e54d10",
   "metadata": {},
   "outputs": [],
   "source": [
    "import numpy as np\n",
    "import torch\n",
    "import torch.nn.functional as F\n",
    "from tqdm.auto import tqdm\n",
    "from torch_geometric.data import Data\n",
    "from model.GCN import GCNClassifier"
   ]
  },
  {
   "cell_type": "code",
   "execution_count": 2,
   "id": "a20d3242",
   "metadata": {},
   "outputs": [],
   "source": [
    "def load_data(path: str) -> Data:\n",
    "    npz_data = np.load(path, allow_pickle=True)\n",
    "\n",
    "    x_np            = npz_data['x']                   # shape: (num_nodes, 17)\n",
    "    y_np            = npz_data['y']                   # node labels (integers)\n",
    "    edge_index_np   = npz_data['edge_index']          # shape: (num_edges, 2)\n",
    "    edge_type_np    = npz_data['edge_type']\n",
    "    edge_time_np    = npz_data['edge_timestamp']\n",
    "\n",
    "    train_mask_np   = npz_data['train_mask']\n",
    "    valid_mask_np   = npz_data['valid_mask']\n",
    "    test_mask_np    = npz_data['test_mask']\n",
    "\n",
    "    x = torch.tensor(x_np, dtype=torch.float)\n",
    "    y = torch.tensor(y_np, dtype=torch.long)\n",
    "\n",
    "    edge_index = torch.tensor(edge_index_np, dtype=torch.long).t().contiguous()\n",
    "\n",
    "    edge_type = torch.tensor(edge_type_np, dtype=torch.long)\n",
    "    edge_timestamp = torch.tensor(edge_time_np, dtype=torch.float)\n",
    "\n",
    "    train_mask = torch.tensor(train_mask_np, dtype=torch.bool)\n",
    "    valid_mask = torch.tensor(valid_mask_np, dtype=torch.bool)\n",
    "    test_mask  = torch.tensor(test_mask_np, dtype=torch.bool)\n",
    "\n",
    "    return Data(\n",
    "        x=x,\n",
    "        y=y,\n",
    "        edge_index=edge_index,\n",
    "        edge_type=edge_type,\n",
    "        edge_timestamp=edge_timestamp,\n",
    "        train_mask=train_mask,\n",
    "        val_mask=valid_mask,   # note: naming convention may vary (valid_mask vs. val_mask)\n",
    "        test_mask=test_mask\n",
    "    )"
   ]
  },
  {
   "cell_type": "code",
   "execution_count": 4,
   "id": "1ff48a61",
   "metadata": {},
   "outputs": [
    {
     "data": {
      "text/plain": [
       "8"
      ]
     },
     "execution_count": 4,
     "metadata": {},
     "output_type": "execute_result"
    }
   ],
   "source": [
    "data = load_data('data/dgraph/dgraphfin.npz')\n",
    "len(data)"
   ]
  },
  {
   "cell_type": "code",
   "execution_count": 5,
   "id": "cf0582c2",
   "metadata": {},
   "outputs": [],
   "source": [
    "device = torch.device('cuda' if torch.cuda.is_available() else 'cpu')\n",
    "data = data.to(device)"
   ]
  },
  {
   "cell_type": "code",
   "execution_count": 7,
   "id": "b3aecd76",
   "metadata": {},
   "outputs": [],
   "source": [
    "model = GCNClassifier(data.num_node_features, hidden_dim=64, num_classes=2).to(device)"
   ]
  },
  {
   "cell_type": "code",
   "execution_count": 8,
   "id": "5f631ea1",
   "metadata": {},
   "outputs": [],
   "source": [
    "optimizer = torch.optim.Adam(model.parameters(), lr=0.01, weight_decay=5e-4)"
   ]
  },
  {
   "cell_type": "code",
   "execution_count": null,
   "id": "2bc2cce8",
   "metadata": {},
   "outputs": [
    {
     "data": {
      "application/vnd.jupyter.widget-view+json": {
       "model_id": "e017384e5bc44743a216b08c9aa52fa6",
       "version_major": 2,
       "version_minor": 0
      },
      "text/plain": [
       "Training:   0%|          | 0/128 [00:00<?, ?it/s]"
      ]
     },
     "metadata": {},
     "output_type": "display_data"
    },
    {
     "ename": "RuntimeError",
     "evalue": "The size of tensor a (857899) must match the size of tensor b (3700550) at non-singleton dimension 0",
     "output_type": "error",
     "traceback": [
      "\u001b[0;31m---------------------------------------------------------------------------\u001b[0m",
      "\u001b[0;31mRuntimeError\u001b[0m                              Traceback (most recent call last)",
      "Cell \u001b[0;32mIn[9], line 9\u001b[0m\n\u001b[1;32m      5\u001b[0m out \u001b[38;5;241m=\u001b[39m model(data\u001b[38;5;241m.\u001b[39mx, data\u001b[38;5;241m.\u001b[39medge_index)\n\u001b[1;32m      7\u001b[0m \u001b[38;5;66;03m# Create a mask to train only on the training set nodes.\u001b[39;00m\n\u001b[1;32m      8\u001b[0m \u001b[38;5;66;03m# Optionally, combine with a condition to include only nodes with label 0 (normal) or 1 (fraud).\u001b[39;00m\n\u001b[0;32m----> 9\u001b[0m train_only_mask \u001b[38;5;241m=\u001b[39m \u001b[43mdata\u001b[49m\u001b[38;5;241;43m.\u001b[39;49m\u001b[43mtrain_mask\u001b[49m\u001b[43m \u001b[49m\u001b[38;5;241;43m&\u001b[39;49m\u001b[43m \u001b[49m\u001b[43m(\u001b[49m\u001b[43m(\u001b[49m\u001b[43mdata\u001b[49m\u001b[38;5;241;43m.\u001b[39;49m\u001b[43my\u001b[49m\u001b[43m \u001b[49m\u001b[38;5;241;43m==\u001b[39;49m\u001b[43m \u001b[49m\u001b[38;5;241;43m0\u001b[39;49m\u001b[43m)\u001b[49m\u001b[43m \u001b[49m\u001b[38;5;241;43m|\u001b[39;49m\u001b[43m \u001b[49m\u001b[43m(\u001b[49m\u001b[43mdata\u001b[49m\u001b[38;5;241;43m.\u001b[39;49m\u001b[43my\u001b[49m\u001b[43m \u001b[49m\u001b[38;5;241;43m==\u001b[39;49m\u001b[43m \u001b[49m\u001b[38;5;241;43m1\u001b[39;49m\u001b[43m)\u001b[49m\u001b[43m)\u001b[49m\n\u001b[1;32m     11\u001b[0m loss \u001b[38;5;241m=\u001b[39m F\u001b[38;5;241m.\u001b[39mnll_loss(out[train_only_mask], data\u001b[38;5;241m.\u001b[39my[train_only_mask])\n\u001b[1;32m     12\u001b[0m loss\u001b[38;5;241m.\u001b[39mbackward()\n",
      "\u001b[0;31mRuntimeError\u001b[0m: The size of tensor a (857899) must match the size of tensor b (3700550) at non-singleton dimension 0"
     ]
    }
   ],
   "source": [
    "model.train()\n",
    "n_epochs = 128\n",
    "for epoch in tqdm(range(n_epochs), desc=\"Training\"):\n",
    "    optimizer.zero_grad()\n",
    "    out = model(data.x, data.edge_index)\n",
    "    \n",
    "    # Create a mask to train only on the training set nodes.\n",
    "    # Optionally, combine with a condition to include only nodes with label 0 (normal) or 1 (fraud).\n",
    "    train_only_mask = data.train_mask & ((data.y == 0) | (data.y == 1))\n",
    "    \n",
    "    loss = F.nll_loss(out[train_only_mask], data.y[train_only_mask])\n",
    "    loss.backward()\n",
    "    optimizer.step()"
   ]
  },
  {
   "cell_type": "code",
   "execution_count": null,
   "id": "6ae65ae8",
   "metadata": {},
   "outputs": [],
   "source": []
  }
 ],
 "metadata": {
  "kernelspec": {
   "display_name": "dd-chat",
   "language": "python",
   "name": "python3"
  },
  "language_info": {
   "codemirror_mode": {
    "name": "ipython",
    "version": 3
   },
   "file_extension": ".py",
   "mimetype": "text/x-python",
   "name": "python",
   "nbconvert_exporter": "python",
   "pygments_lexer": "ipython3",
   "version": "3.9.21"
  }
 },
 "nbformat": 4,
 "nbformat_minor": 5
}
